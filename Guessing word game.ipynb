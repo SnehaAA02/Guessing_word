{
 "cells": [
  {
   "cell_type": "code",
   "execution_count": null,
   "id": "b6cce492",
   "metadata": {},
   "outputs": [
    {
     "name": "stdout",
     "output_type": "stream",
     "text": [
      "guess a character\n",
      "_\n",
      "mango _\n",
      "python _\n",
      "apple _\n",
      "maths _\n",
      "computer _\n",
      "technology Guess a character:m\n",
      "Wrong\n",
      "You have 4 guesses\n",
      "_\n",
      "mango _\n",
      "python _\n",
      "apple _\n",
      "maths _\n",
      "computer _\n",
      "technology Guess a character:a\n",
      "_\n",
      "mango _\n",
      "python _\n",
      "apple _\n",
      "maths _\n",
      "computer _\n",
      "technology Guess a character:n\n",
      "Wrong\n",
      "You have 3 guesses\n",
      "_\n",
      "mango _\n",
      "python _\n",
      "apple _\n",
      "maths _\n",
      "computer _\n",
      "technology Guess a character:g\n",
      "Wrong\n",
      "You have 2 guesses\n",
      "_\n",
      "mango _\n",
      "python _\n",
      "apple _\n",
      "maths _\n",
      "computer _\n",
      "technology Guess a character:o\n",
      "Wrong\n",
      "You have 1 guesses\n",
      "mango _\n",
      "python _\n",
      "apple _\n",
      "maths _\n",
      "computer _\n",
      "technology "
     ]
    }
   ],
   "source": [
    "import random\n",
    "words=['mango','python','apple','maths','computer','technology']\n",
    "word=random.choice(words)\n",
    "turns=5\n",
    "print(\"guess a character\")\n",
    "guesses=''\n",
    "while turns>0:\n",
    "    failed=0\n",
    "    for char in words:\n",
    "        if char in guesses:\n",
    "            print(char,end=\" \")\n",
    "        else:\n",
    "            print(\"_\")\n",
    "            print(char,end=\" \")\n",
    "        failed+=1\n",
    "    if failed==0:\n",
    "        print(\"You win\")\n",
    "        print(\"The word is:\",word)\n",
    "        break\n",
    "    guess=input(\"Guess a character:\")\n",
    "    guesses+=guess\n",
    "    if guess not in word:\n",
    "        turns-=1\n",
    "        print(\"Wrong\")\n",
    "        print(\"You have\",+turns,\"guesses\")\n",
    "        if turns==0:\n",
    "            print(\"You loose\")"
   ]
  },
  {
   "cell_type": "code",
   "execution_count": null,
   "id": "f1df1a23",
   "metadata": {},
   "outputs": [],
   "source": []
  }
 ],
 "metadata": {
  "kernelspec": {
   "display_name": "Python 3 (ipykernel)",
   "language": "python",
   "name": "python3"
  },
  "language_info": {
   "codemirror_mode": {
    "name": "ipython",
    "version": 3
   },
   "file_extension": ".py",
   "mimetype": "text/x-python",
   "name": "python",
   "nbconvert_exporter": "python",
   "pygments_lexer": "ipython3",
   "version": "3.10.2"
  }
 },
 "nbformat": 4,
 "nbformat_minor": 5
}
